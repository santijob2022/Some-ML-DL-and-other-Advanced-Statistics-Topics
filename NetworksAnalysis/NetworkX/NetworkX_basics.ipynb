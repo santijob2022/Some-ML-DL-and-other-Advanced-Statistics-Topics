{
 "cells": [
  {
   "cell_type": "markdown",
   "metadata": {},
   "source": [
    "# NetworkX"
   ]
  },
  {
   "cell_type": "code",
   "execution_count": 1,
   "metadata": {},
   "outputs": [],
   "source": [
    "import networkx as nx\n",
    "import matplotlib.pyplot as plt\n",
    "import numpy as np\n",
    "from sklearn.metrics import adjusted_rand_score\n",
    "\n",
    "G_football = nx.read_gml('Data/football1.gml', label='id')"
   ]
  },
  {
   "cell_type": "markdown",
   "metadata": {},
   "source": [
    "# Accessing nodes, number of nodes, and edges"
   ]
  },
  {
   "cell_type": "code",
   "execution_count": 2,
   "metadata": {},
   "outputs": [
    {
     "data": {
      "text/plain": [
       "{'label': 'FloridaState',\n",
       " 'wins': 11,\n",
       " 'losses': 2,\n",
       " 'conference': 'Atlantic Coast'}"
      ]
     },
     "execution_count": 2,
     "metadata": {},
     "output_type": "execute_result"
    }
   ],
   "source": [
    "G_football.nodes[1]"
   ]
  },
  {
   "cell_type": "code",
   "execution_count": 3,
   "metadata": {},
   "outputs": [
    {
     "data": {
      "text/plain": [
       "'FloridaState'"
      ]
     },
     "execution_count": 3,
     "metadata": {},
     "output_type": "execute_result"
    }
   ],
   "source": [
    "G_football.nodes[1]['label']"
   ]
  },
  {
   "cell_type": "code",
   "execution_count": 4,
   "metadata": {},
   "outputs": [
    {
     "data": {
      "text/plain": [
       "115"
      ]
     },
     "execution_count": 4,
     "metadata": {},
     "output_type": "execute_result"
    }
   ],
   "source": [
    "# Number of nodes\n",
    "G_football.number_of_nodes()"
   ]
  },
  {
   "cell_type": "code",
   "execution_count": 5,
   "metadata": {},
   "outputs": [
    {
     "data": {
      "text/plain": [
       "613"
      ]
     },
     "execution_count": 5,
     "metadata": {},
     "output_type": "execute_result"
    }
   ],
   "source": [
    "# Number of edges\n",
    "G_football.number_of_edges()"
   ]
  },
  {
   "cell_type": "markdown",
   "metadata": {},
   "source": [
    "# Computing Correlation Coefficients"
   ]
  },
  {
   "cell_type": "code",
   "execution_count": 6,
   "metadata": {},
   "outputs": [
    {
     "name": "stdout",
     "output_type": "stream",
     "text": [
      "Correlation Coefficient: 0.9999999999999999\n"
     ]
    }
   ],
   "source": [
    "X = [1, 2, 3, 4, 5]\n",
    "y = [2, 4, 6, 8, 10]\n",
    "\n",
    "correlation_matrix = np.corrcoef(X, y)\n",
    "correlation_coefficient = correlation_matrix[0, 1]\n",
    "print(f'Correlation Coefficient: {correlation_coefficient}')"
   ]
  },
  {
   "cell_type": "code",
   "execution_count": 7,
   "metadata": {},
   "outputs": [
    {
     "data": {
      "text/plain": [
       "array([[1., 1.],\n",
       "       [1., 1.]])"
      ]
     },
     "execution_count": 7,
     "metadata": {},
     "output_type": "execute_result"
    }
   ],
   "source": [
    "correlation_matrix"
   ]
  },
  {
   "cell_type": "markdown",
   "metadata": {},
   "source": [
    "# Assortativity Coefficients\n",
    "\n",
    "### Attribute Assortativity\n",
    "\n",
    "This coefficient represents the tendency of nodes with the same attributes to form edges between one another. In this case, since we select \"conference,\" we obtain a measure representing the tendency of universities in the same conference to play one another."
   ]
  },
  {
   "cell_type": "code",
   "execution_count": 8,
   "metadata": {},
   "outputs": [
    {
     "data": {
      "text/plain": [
       "0.6275381679111909"
      ]
     },
     "execution_count": 8,
     "metadata": {},
     "output_type": "execute_result"
    }
   ],
   "source": [
    "nx.attribute_assortativity_coefficient(G_football, attribute=\"conference\")"
   ]
  },
  {
   "cell_type": "markdown",
   "metadata": {},
   "source": [
    "### Numeric Assortativity\n",
    "\n",
    "\n",
    "The numeric assortativity coefficient gives us a coefficient representing the tendency of nodes with similar numeric attributes to form edges with each other. In the context of the football dataset, since we selected the attribute 'wins', the coefficient tells us the tendency of teams with similar win counts to play against other."
   ]
  },
  {
   "cell_type": "code",
   "execution_count": 9,
   "metadata": {},
   "outputs": [
    {
     "data": {
      "text/plain": [
       "-0.049806582644503085"
      ]
     },
     "execution_count": 9,
     "metadata": {},
     "output_type": "execute_result"
    }
   ],
   "source": [
    "nx.numeric_assortativity_coefficient(G_football, attribute=\"wins\")"
   ]
  },
  {
   "cell_type": "markdown",
   "metadata": {},
   "source": [
    "### Degree Assortativity\n",
    "\n",
    "The degree assortativity coefficient, gives a coefficient representing the tendency of nodes with similar degrees to form edges between one another. In the context of the football dataset, this tells us the tendency of teams to play other teams with a similar number of total games played. "
   ]
  },
  {
   "cell_type": "code",
   "execution_count": 10,
   "metadata": {},
   "outputs": [
    {
     "data": {
      "text/plain": [
       "0.16244224957444287"
      ]
     },
     "execution_count": 10,
     "metadata": {},
     "output_type": "execute_result"
    }
   ],
   "source": [
    "nx.degree_assortativity_coefficient(G_football)"
   ]
  },
  {
   "cell_type": "markdown",
   "metadata": {},
   "source": [
    "## Working with Digraphs"
   ]
  },
  {
   "cell_type": "markdown",
   "metadata": {},
   "source": [
    "When working with digraphs we can calculate coefficients as the in-degree or out-degree of each node.\n",
    "\n",
    "1. In-Degree Assortativity (x='in', y='in')\n",
    "\n",
    "Measures correlation between the in-degrees of connected nodes\n",
    "Asks: \"Do nodes with many incoming edges tend to connect to other nodes with many incoming edges?\"\n",
    "\n",
    "2. Out-Degree Assortativity (x='out', y='out')\n",
    "\n",
    "Measures correlation between the out-degrees of connected nodes\n",
    "Asks: \"Do nodes with many outgoing edges tend to connect to other nodes with many outgoing edges?\"\n",
    "\n",
    "3. Out-In Degree Assortativity (x='out', y='in')\n",
    "\n",
    "Measures correlation between a node's out-degree and its neighbors' in-degrees\n",
    "Asks: \"Do nodes that send many connections tend to connect to nodes that receive many connections?\""
   ]
  },
  {
   "cell_type": "code",
   "execution_count": 11,
   "metadata": {},
   "outputs": [
    {
     "name": "stdout",
     "output_type": "stream",
     "text": [
      "In-Degree Assortativity: -0.4082482904638645\n",
      "Out-Degree Assortativity: -0.4082482904638645\n",
      "Out-In Degree Assortativity: -0.6666666666666686\n"
     ]
    }
   ],
   "source": [
    "G = nx.DiGraph()\n",
    "\n",
    "edges = [\n",
    "    (\"1\", \"2\"),\n",
    "    (\"2\", \"3\"),\n",
    "    (\"3\", \"1\"),\n",
    "    (\"3\", \"4\"),\n",
    "    (\"4\", \"2\")\n",
    "]\n",
    "\n",
    "G.add_edges_from(edges)\n",
    "\n",
    "in_degree_assortativity = nx.degree_assortativity_coefficient(G, x='in', y='in')\n",
    "\n",
    "out_degree_assortativity = nx.degree_assortativity_coefficient(G, x='out', y='out')\n",
    "\n",
    "out_in_assortativity = nx.degree_assortativity_coefficient(G, x='out', y='in')\n",
    "\n",
    "print(f\"In-Degree Assortativity: {in_degree_assortativity}\")\n",
    "print(f\"Out-Degree Assortativity: {out_degree_assortativity}\")\n",
    "print(f\"Out-In Degree Assortativity: {out_in_assortativity}\")"
   ]
  },
  {
   "cell_type": "markdown",
   "metadata": {},
   "source": [
    "# Structural Holes\n",
    "\n",
    "### Constraint"
   ]
  },
  {
   "cell_type": "code",
   "execution_count": 12,
   "metadata": {},
   "outputs": [
    {
     "name": "stdout",
     "output_type": "stream",
     "text": [
      "0 : 0.15866887697117074\n",
      "1 : 0.18433120663707786\n",
      "2 : 0.15886454507193143\n",
      "3 : 0.15275783402203855\n",
      "4 : 0.17942117982563763\n",
      "5 : 0.16208239185485607\n",
      "6 : 0.14832231723803693\n",
      "7 : 0.16843778696051423\n",
      "8 : 0.18895464790656374\n",
      "9 : 0.19116700437887515\n",
      "10 : 0.19056019283746561\n",
      "11 : 0.16851853446076934\n",
      "12 : 0.1713481086113662\n",
      "13 : 0.1671528394387147\n",
      "14 : 0.18007545658606267\n",
      "15 : 0.1548315541781451\n",
      "16 : 0.17938519302719155\n",
      "17 : 0.16364182774400657\n",
      "18 : 0.1793112732764713\n",
      "19 : 0.18591357318489177\n",
      "20 : 0.16690390000683014\n",
      "21 : 0.1869044691847096\n",
      "22 : 0.19868485759169455\n",
      "23 : 0.1866161890210225\n",
      "24 : 0.15073731251913072\n",
      "25 : 0.20558149109426346\n",
      "26 : 0.17265228558518605\n",
      "27 : 0.16804585634287614\n",
      "28 : 0.18398266238894745\n",
      "29 : 0.19800833276415547\n",
      "30 : 0.19441499897547984\n",
      "31 : 0.17266412349557855\n",
      "32 : 0.16732406711745557\n",
      "33 : 0.24121673553719017\n",
      "34 : 0.17516330294155777\n",
      "35 : 0.1862871388566355\n",
      "36 : 0.15141666128615702\n",
      "37 : 0.20986011504982205\n",
      "38 : 0.15836940234636204\n",
      "39 : 0.17427469662819026\n",
      "40 : 0.16306819130447983\n",
      "41 : 0.20992357667584943\n",
      "42 : 0.16765390453702142\n",
      "43 : 0.15587009556672987\n",
      "44 : 0.16622361860528653\n",
      "45 : 0.20986011504982205\n",
      "46 : 0.20069638913553264\n",
      "47 : 0.16623978325706348\n",
      "48 : 0.16685612701014654\n",
      "49 : 0.20555764254111364\n",
      "50 : 0.19353270830262972\n",
      "51 : 0.19329606272255911\n",
      "52 : 0.18361271808999086\n",
      "53 : 0.18031721890623406\n",
      "54 : 0.2036628099173554\n",
      "55 : 0.1814787241308654\n",
      "56 : 0.1866735537190083\n",
      "57 : 0.1779115702479339\n",
      "58 : 0.12572412891541682\n",
      "59 : 0.1691948176923911\n",
      "60 : 0.1662283996994741\n",
      "61 : 0.16110033467659315\n",
      "62 : 0.16627279557407282\n",
      "63 : 0.14153753443526168\n",
      "64 : 0.1669835090195721\n",
      "65 : 0.16804585634287614\n",
      "66 : 0.16327475070008882\n",
      "67 : 0.18593888697581878\n",
      "68 : 0.19211931907774632\n",
      "69 : 0.14415067487631975\n",
      "70 : 0.16765862987500857\n",
      "71 : 0.19467107438016532\n",
      "72 : 0.17104656633957913\n",
      "73 : 0.2005602607593592\n",
      "74 : 0.16956531885344808\n",
      "75 : 0.18652314049586777\n",
      "76 : 0.18072168909227515\n",
      "77 : 0.19075533699124983\n",
      "78 : 0.20439450435568643\n",
      "79 : 0.19356806229082715\n",
      "80 : 0.12577556177856705\n",
      "81 : 0.16516970987106225\n",
      "82 : 0.11802929748271597\n",
      "83 : 0.20883610712686598\n",
      "84 : 0.16887676540005617\n",
      "85 : 0.1849576573818998\n",
      "86 : 0.16755232641971937\n",
      "87 : 0.16449832661703437\n",
      "88 : 0.18120354428119578\n",
      "89 : 0.20558149109426346\n",
      "90 : 0.1822725635202253\n",
      "91 : 0.1660228126494092\n",
      "92 : 0.1593939583665354\n",
      "93 : 0.20383852157943072\n",
      "94 : 0.22788925619834713\n",
      "95 : 0.19131818181818183\n",
      "96 : 0.1866735537190083\n",
      "97 : 0.16797563107399754\n",
      "98 : 0.16840019750472418\n",
      "99 : 0.19042515049484748\n",
      "100 : 0.17021027328127253\n",
      "101 : 0.1988809917355372\n",
      "102 : 0.18699182736455466\n",
      "103 : 0.23665360422405884\n",
      "104 : 0.16155706369248035\n",
      "105 : 0.2466095270890726\n",
      "106 : 0.17008552846268848\n",
      "107 : 0.18633755739210286\n",
      "108 : 0.21841942148760335\n",
      "109 : 0.2087233529889428\n",
      "110 : 0.19755452724085332\n",
      "111 : 0.1908682239373449\n",
      "112 : 0.15856556537598204\n",
      "113 : 0.1921686466942149\n",
      "114 : 0.20547693311780466\n"
     ]
    }
   ],
   "source": [
    "constraints = nx.constraint(G_football)\n",
    "\n",
    "for node_id, constraint_value in constraints.items():\n",
    "    print(f'{node_id} : {constraint_value}')"
   ]
  },
  {
   "cell_type": "markdown",
   "metadata": {},
   "source": [
    "### Effective Size"
   ]
  },
  {
   "cell_type": "code",
   "execution_count": 13,
   "metadata": {},
   "outputs": [
    {
     "name": "stdout",
     "output_type": "stream",
     "text": [
      "0 : 8.166666666666666\n",
      "1 : 7.166666666666667\n",
      "2 : 7.833333333333333\n",
      "3 : 8.333333333333334\n",
      "4 : 6.818181818181818\n",
      "5 : 8.0\n",
      "6 : 8.5\n",
      "7 : 7.666666666666667\n",
      "8 : 6.2727272727272725\n",
      "9 : 6.2727272727272725\n",
      "10 : 6.0\n",
      "11 : 7.2\n",
      "12 : 7.0\n",
      "13 : 7.181818181818182\n",
      "14 : 6.6\n",
      "15 : 8.166666666666666\n",
      "16 : 6.818181818181818\n",
      "17 : 7.545454545454545\n",
      "18 : 7.0\n",
      "19 : 6.636363636363637\n",
      "20 : 7.363636363636363\n",
      "21 : 6.454545454545454\n",
      "22 : 5.909090909090909\n",
      "23 : 6.454545454545454\n",
      "24 : 8.0\n",
      "25 : 5.909090909090909\n",
      "26 : 7.0\n",
      "27 : 7.363636363636363\n",
      "28 : 6.333333333333334\n",
      "29 : 6.090909090909091\n",
      "30 : 6.2727272727272725\n",
      "31 : 7.181818181818182\n",
      "32 : 7.181818181818182\n",
      "33 : 4.2\n",
      "34 : 7.181818181818182\n",
      "35 : 6.636363636363637\n",
      "36 : 7.0\n",
      "37 : 5.7272727272727275\n",
      "38 : 7.909090909090909\n",
      "39 : 6.818181818181818\n",
      "40 : 7.545454545454545\n",
      "41 : 5.2\n",
      "42 : 6.142857142857143\n",
      "43 : 8.09090909090909\n",
      "44 : 7.363636363636363\n",
      "45 : 5.7272727272727275\n",
      "46 : 5.7272727272727275\n",
      "47 : 7.181818181818182\n",
      "48 : 7.363636363636363\n",
      "49 : 5.545454545454546\n",
      "50 : 5.888888888888889\n",
      "51 : 6.2727272727272725\n",
      "52 : 6.2\n",
      "53 : 7.0\n",
      "54 : 5.6\n",
      "55 : 6.818181818181818\n",
      "56 : 6.2\n",
      "57 : 6.6\n",
      "58 : 9.0\n",
      "59 : 6.5\n",
      "60 : 7.181818181818182\n",
      "61 : 7.727272727272727\n",
      "62 : 7.363636363636363\n",
      "63 : 7.888888888888889\n",
      "64 : 7.181818181818182\n",
      "65 : 7.363636363636363\n",
      "66 : 7.545454545454545\n",
      "67 : 6.666666666666667\n",
      "68 : 6.2727272727272725\n",
      "69 : 8.636363636363637\n",
      "70 : 7.363636363636363\n",
      "71 : 6.0\n",
      "72 : 7.181818181818182\n",
      "73 : 5.7272727272727275\n",
      "74 : 7.181818181818182\n",
      "75 : 6.2\n",
      "76 : 6.818181818181818\n",
      "77 : 6.2727272727272725\n",
      "78 : 5.7272727272727275\n",
      "79 : 6.2727272727272725\n",
      "80 : 9.181818181818182\n",
      "81 : 7.363636363636363\n",
      "82 : 9.545454545454545\n",
      "83 : 5.363636363636363\n",
      "84 : 7.181818181818182\n",
      "85 : 6.111111111111111\n",
      "86 : 7.363636363636363\n",
      "87 : 7.545454545454545\n",
      "88 : 7.0\n",
      "89 : 5.909090909090909\n",
      "90 : 6.333333333333334\n",
      "91 : 7.363636363636363\n",
      "92 : 7.727272727272727\n",
      "93 : 5.4\n",
      "94 : 4.6\n",
      "95 : 6.0\n",
      "96 : 6.2\n",
      "97 : 6.5\n",
      "98 : 7.363636363636363\n",
      "99 : 6.2\n",
      "100 : 7.0\n",
      "101 : 5.8\n",
      "102 : 6.2\n",
      "103 : 4.4\n",
      "104 : 8.0\n",
      "105 : 4.0\n",
      "106 : 7.0\n",
      "107 : 6.2\n",
      "108 : 4.8\n",
      "109 : 5.7272727272727275\n",
      "110 : 5.909090909090909\n",
      "111 : 6.2727272727272725\n",
      "112 : 7.4\n",
      "113 : 6.0\n",
      "114 : 5.545454545454546\n"
     ]
    }
   ],
   "source": [
    "effective_sizes = nx.effective_size(G_football)\n",
    "\n",
    "for node_id, es in effective_sizes.items():\n",
    "    print(f'{node_id} : {es}')"
   ]
  },
  {
   "cell_type": "markdown",
   "metadata": {},
   "source": [
    "# Conducting K-Core decomposition"
   ]
  },
  {
   "cell_type": "code",
   "execution_count": 14,
   "metadata": {},
   "outputs": [],
   "source": [
    "G_dolphins = nx.read_gml(\"Data/dolphins.gml\")"
   ]
  },
  {
   "cell_type": "markdown",
   "metadata": {},
   "source": [
    "In core_numbers, the key is the `id` of a dolphin, and the value is the highest value k of a k-core containing that dolphin. "
   ]
  },
  {
   "cell_type": "code",
   "execution_count": 15,
   "metadata": {},
   "outputs": [
    {
     "name": "stdout",
     "output_type": "stream",
     "text": [
      "Beak : 4\n",
      "Beescratch : 4\n",
      "Bumper : 3\n",
      "CCL : 3\n",
      "Cross : 1\n",
      "DN16 : 3\n",
      "DN21 : 4\n",
      "DN63 : 4\n",
      "Double : 4\n",
      "Feather : 4\n",
      "Fish : 4\n",
      "Five : 1\n",
      "Fork : 1\n",
      "Gallatin : 4\n",
      "Grin : 4\n",
      "Haecksel : 4\n",
      "Hook : 4\n",
      "Jet : 4\n",
      "Jonah : 4\n",
      "Knit : 4\n",
      "Kringel : 4\n",
      "MN105 : 4\n",
      "MN23 : 1\n",
      "MN60 : 3\n",
      "MN83 : 4\n",
      "Mus : 3\n",
      "Notch : 3\n",
      "Number1 : 3\n",
      "Oscar : 4\n",
      "Patchback : 4\n",
      "PL : 4\n",
      "Quasi : 1\n",
      "Ripplefluke : 2\n",
      "Scabs : 4\n",
      "Shmuddel : 3\n",
      "SMN5 : 1\n",
      "SN100 : 4\n",
      "SN4 : 4\n",
      "SN63 : 4\n",
      "SN89 : 2\n",
      "SN9 : 4\n",
      "SN90 : 4\n",
      "SN96 : 4\n",
      "Stripes : 4\n",
      "Thumper : 3\n",
      "Topless : 4\n",
      "TR120 : 2\n",
      "TR77 : 4\n",
      "TR82 : 1\n",
      "TR88 : 2\n",
      "TR99 : 4\n",
      "Trigger : 4\n",
      "TSN103 : 4\n",
      "TSN83 : 2\n",
      "Upbang : 4\n",
      "Vau : 2\n",
      "Wave : 2\n",
      "Web : 4\n",
      "Whitetip : 1\n",
      "Zap : 4\n",
      "Zig : 1\n",
      "Zipfel : 2\n"
     ]
    }
   ],
   "source": [
    "core_numbers = nx.core_number(G_dolphins)\n",
    "\n",
    "for node_id, highest_core in core_numbers.items():\n",
    "    print(f'{node_id} : {highest_core}')"
   ]
  }
 ],
 "metadata": {
  "kernelspec": {
   "display_name": "base",
   "language": "python",
   "name": "python3"
  },
  "language_info": {
   "codemirror_mode": {
    "name": "ipython",
    "version": 3
   },
   "file_extension": ".py",
   "mimetype": "text/x-python",
   "name": "python",
   "nbconvert_exporter": "python",
   "pygments_lexer": "ipython3",
   "version": "3.12.3"
  }
 },
 "nbformat": 4,
 "nbformat_minor": 4
}
